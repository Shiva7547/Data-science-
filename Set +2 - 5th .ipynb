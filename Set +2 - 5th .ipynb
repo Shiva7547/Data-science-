{
 "cells": [
  {
   "cell_type": "code",
   "execution_count": 2,
   "id": "bc9296ae",
   "metadata": {},
   "outputs": [],
   "source": [
    "import numpy as np\n",
    "from scipy import stats\n",
    "from scipy.stats import norm"
   ]
  },
  {
   "cell_type": "code",
   "execution_count": 6,
   "id": "28b0ea1a",
   "metadata": {},
   "outputs": [
    {
     "name": "stdout",
     "output_type": "stream",
     "text": [
      "Mean profit is RS 540 Million\n"
     ]
    }
   ],
   "source": [
    "Mean = 5+7\n",
    "print('Mean profit is RS',Mean*45,'Million')"
   ]
  },
  {
   "cell_type": "code",
   "execution_count": 7,
   "id": "87683712",
   "metadata": {},
   "outputs": [
    {
     "name": "stdout",
     "output_type": "stream",
     "text": [
      "Standard Deviation is Rs 225.0 Million\n"
     ]
    }
   ],
   "source": [
    "SD = np.sqrt((9)+(16))\n",
    "print ('Standard Deviation is Rs',SD*45,'Million')"
   ]
  },
  {
   "cell_type": "code",
   "execution_count": 8,
   "id": "a285359b",
   "metadata": {},
   "outputs": [
    {
     "name": "stdout",
     "output_type": "stream",
     "text": [
      "Range is Rs (99.00810347848784, 980.9918965215122) in Millions\n"
     ]
    }
   ],
   "source": [
    "print('Range is Rs',(stats.norm.interval(0.95,540,225)),'in Millions')"
   ]
  },
  {
   "cell_type": "code",
   "execution_count": 9,
   "id": "1701eb4a",
   "metadata": {},
   "outputs": [
    {
     "name": "stdout",
     "output_type": "stream",
     "text": [
      "5th percentile of profit(in Million Rupees) is 170.0\n"
     ]
    }
   ],
   "source": [
    "X= 540+(-1.645)*(225)\n",
    "print('5th percentile of profit(in Million Rupees) is',np.round(X,))"
   ]
  },
  {
   "cell_type": "code",
   "execution_count": 10,
   "id": "2e47da0d",
   "metadata": {},
   "outputs": [
    {
     "data": {
      "text/plain": [
       "0.0477903522728147"
      ]
     },
     "execution_count": 10,
     "metadata": {},
     "output_type": "execute_result"
    }
   ],
   "source": [
    "stats.norm.cdf(0,5,3)"
   ]
  },
  {
   "cell_type": "code",
   "execution_count": 11,
   "id": "68abac45",
   "metadata": {},
   "outputs": [
    {
     "data": {
      "text/plain": [
       "0.040059156863817086"
      ]
     },
     "execution_count": 11,
     "metadata": {},
     "output_type": "execute_result"
    }
   ],
   "source": [
    "stats.norm.cdf(0,7,4)"
   ]
  }
 ],
 "metadata": {
  "kernelspec": {
   "display_name": "Python 3 (ipykernel)",
   "language": "python",
   "name": "python3"
  },
  "language_info": {
   "codemirror_mode": {
    "name": "ipython",
    "version": 3
   },
   "file_extension": ".py",
   "mimetype": "text/x-python",
   "name": "python",
   "nbconvert_exporter": "python",
   "pygments_lexer": "ipython3",
   "version": "3.9.13"
  }
 },
 "nbformat": 4,
 "nbformat_minor": 5
}
